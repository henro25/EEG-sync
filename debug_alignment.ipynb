{
 "cells": [
  {
   "cell_type": "code",
   "execution_count": 10,
   "metadata": {},
   "outputs": [],
   "source": [
    "import numpy as np\n",
    "import scipy.io as sio"
   ]
  },
  {
   "cell_type": "code",
   "execution_count": 31,
   "metadata": {},
   "outputs": [],
   "source": [
    "def find_first_occurrence(full_data, trimmed_first_row, exclude_cols=None):\n",
    "    \"\"\"\n",
    "    Find the row index in full_data that best matches the first row of trimmed_data,\n",
    "    excluding specified columns.\n",
    "\n",
    "    The matching is determined by the smallest mean squared error (MSE) computed\n",
    "    over only the channels where both full_data and trimmed_first_row have valid (non-NaN) data,\n",
    "    excluding the columns provided in exclude_cols.\n",
    "\n",
    "    Parameters:\n",
    "        full_data (np.ndarray): Array of shape (n1, channels)\n",
    "        trimmed_first_row (np.ndarray): Array of shape (channels,)\n",
    "        exclude_cols (list or np.ndarray): Column indices to exclude from comparison\n",
    "\n",
    "    Returns:\n",
    "        best_index (int): The index in full_data where the first row of trimmed_data best matches.\n",
    "        best_error (float): The corresponding mean squared error.\n",
    "    \"\"\"\n",
    "    # If there are columns to exclude, create a mask to include only allowed columns.\n",
    "    if exclude_cols is not None:\n",
    "        # Create a boolean mask for columns to include.\n",
    "        total_cols = full_data.shape[1]\n",
    "        include_mask = np.ones(total_cols, dtype=bool)\n",
    "        include_mask[exclude_cols] = False\n",
    "    else:\n",
    "        include_mask = slice(None)\n",
    "\n",
    "    best_error = np.inf\n",
    "    best_index = -1\n",
    "\n",
    "    # Loop through every row in the full data\n",
    "    for i in range(full_data.shape[0]):\n",
    "        row_full = full_data[i, :][include_mask]\n",
    "        row_trimmed = trimmed_first_row[include_mask]\n",
    "        \n",
    "        # Create a mask for indices that are valid (i.e. not NaN) in both rows.\n",
    "        valid_mask = ~(np.isnan(row_full) | np.isnan(row_trimmed))\n",
    "        \n",
    "        # If no valid comparisons are available, skip this row.\n",
    "        if np.sum(valid_mask) == 0:\n",
    "            continue\n",
    "        \n",
    "        # Compute the mean squared error for this row comparison.\n",
    "        diff = row_full[valid_mask] - row_trimmed[valid_mask]\n",
    "        error = np.mean(diff ** 2)\n",
    "        \n",
    "        # Update the best match if the error is lower than what we have seen so far.\n",
    "        if error < best_error:\n",
    "            best_error = error\n",
    "            best_index = i\n",
    "        \n",
    "        if best_error == 0:\n",
    "            break\n",
    "\n",
    "    return best_index, best_error"
   ]
  },
  {
   "cell_type": "code",
   "execution_count": 32,
   "metadata": {},
   "outputs": [
    {
     "name": "stdout",
     "output_type": "stream",
     "text": [
      "Full data shape: (978765, 32)\n",
      "Trimmed data shape: (893558, 32)\n"
     ]
    }
   ],
   "source": [
    "# ---------------------------\n",
    "# 1. Load the data\n",
    "# ---------------------------\n",
    "og_path = 'Group 1/synced_EEG_data_1.mat'\n",
    "trimmed_path = 'Group 1/sync_to_actual_task/task_cutoff_EEG_data_1.mat'\n",
    "\n",
    "full_mat = sio.loadmat(og_path)\n",
    "trimmed_mat = sio.loadmat(trimmed_path)\n",
    "\n",
    "# Assume that the variable name inside the .mat files is 'data'\n",
    "full_data = full_mat['synced_EEG_data_1']             # shape: (n1, 32)\n",
    "trimmed_data = trimmed_mat['task_cutoff_EEG_data_1']  # shape: (n2, 32)\n",
    "\n",
    "# Check the shapes\n",
    "print(\"Full data shape:\", full_data.shape)\n",
    "print(\"Trimmed data shape:\", trimmed_data.shape)"
   ]
  },
  {
   "cell_type": "code",
   "execution_count": 33,
   "metadata": {},
   "outputs": [],
   "source": [
    "def find_alignment(exclude_columns=None):\n",
    "    # Extract the first row of the trimmed data.\n",
    "    trimmed_first_row = trimmed_data[0, :]\n",
    "\n",
    "    # Find where the first row of trimmed_data best appears in full_data (excluding the specified columns).\n",
    "    best_index, best_error = find_first_occurrence(full_data, trimmed_first_row, exclude_cols=exclude_columns)\n",
    "\n",
    "    print(\"\\nThe first row of the trimmed data best appears in the full data at row index:\", best_index)\n",
    "    print(\"Corresponding mean squared error:\", best_error)"
   ]
  },
  {
   "cell_type": "markdown",
   "metadata": {},
   "source": [
    "### Best MSE with Full Data"
   ]
  },
  {
   "cell_type": "code",
   "execution_count": 34,
   "metadata": {},
   "outputs": [
    {
     "name": "stdout",
     "output_type": "stream",
     "text": [
      "\n",
      "The first row of the trimmed data best appears in the full data at row index: 40508\n",
      "Corresponding mean squared error: 116.5336540043354\n"
     ]
    }
   ],
   "source": [
    "find_alignment()"
   ]
  },
  {
   "cell_type": "markdown",
   "metadata": {},
   "source": [
    "### Best MSE without HCILab 2"
   ]
  },
  {
   "cell_type": "code",
   "execution_count": null,
   "metadata": {},
   "outputs": [
    {
     "name": "stdout",
     "output_type": "stream",
     "text": [
      "\n",
      "The first row of the trimmed data best appears in the full data at row index: 40519\n",
      "Corresponding mean squared error: 129.95735013484955\n"
     ]
    }
   ],
   "source": [
    "# Exclude HCILab 2\n",
    "exclude_columns = list(range(8, 16))\n",
    "find_alignment(exclude_columns)"
   ]
  },
  {
   "cell_type": "markdown",
   "metadata": {},
   "source": [
    "### Best MSE with only HCILab 1\n",
    "\n",
    "Index: 40561"
   ]
  },
  {
   "cell_type": "code",
   "execution_count": 35,
   "metadata": {},
   "outputs": [
    {
     "name": "stdout",
     "output_type": "stream",
     "text": [
      "\n",
      "The first row of the trimmed data best appears in the full data at row index: 40561\n",
      "Corresponding mean squared error: 0.0\n"
     ]
    }
   ],
   "source": [
    "# Exclude columns 8 to 31 inclusive.\n",
    "exclude_columns = list(range(8, 32))\n",
    "find_alignment(exclude_columns)"
   ]
  },
  {
   "cell_type": "markdown",
   "metadata": {},
   "source": [
    "### Best MSE with only HCILab 2\n",
    "\n",
    "Index: 40512"
   ]
  },
  {
   "cell_type": "code",
   "execution_count": 36,
   "metadata": {},
   "outputs": [
    {
     "name": "stdout",
     "output_type": "stream",
     "text": [
      "\n",
      "The first row of the trimmed data best appears in the full data at row index: 40512\n",
      "Corresponding mean squared error: 0.0\n"
     ]
    }
   ],
   "source": [
    "# Exclude columns 8 to 31 inclusive.\n",
    "exclude_columns = list(range(0, 8)) + list(range(16, 32))\n",
    "find_alignment(exclude_columns)"
   ]
  },
  {
   "cell_type": "markdown",
   "metadata": {},
   "source": [
    "### Best MSE with only CSL_Laptop\n",
    "\n",
    "Index: 40530"
   ]
  },
  {
   "cell_type": "code",
   "execution_count": 37,
   "metadata": {},
   "outputs": [
    {
     "name": "stdout",
     "output_type": "stream",
     "text": [
      "\n",
      "The first row of the trimmed data best appears in the full data at row index: 40530\n",
      "Corresponding mean squared error: 0.0\n"
     ]
    }
   ],
   "source": [
    "exclude_columns = list(range(0, 16)) + list(range(24, 32))\n",
    "find_alignment(exclude_columns)"
   ]
  },
  {
   "cell_type": "markdown",
   "metadata": {},
   "source": [
    "### Best MSE with only CSL_LabPC\n",
    "\n",
    "Index: 40452"
   ]
  },
  {
   "cell_type": "code",
   "execution_count": 38,
   "metadata": {},
   "outputs": [
    {
     "name": "stdout",
     "output_type": "stream",
     "text": [
      "\n",
      "The first row of the trimmed data best appears in the full data at row index: 40452\n",
      "Corresponding mean squared error: 0.0\n"
     ]
    }
   ],
   "source": [
    "exclude_columns = list(range(0, 24))\n",
    "find_alignment(exclude_columns)"
   ]
  },
  {
   "cell_type": "markdown",
   "metadata": {},
   "source": [
    "### Analysis of effects of different sampling rates\n",
    "\n",
    "Stream 1 with Hz = 1 (1 timestamp / sec)\n",
    "\n",
    "Timestamps: 1, 2, 3, 4, 5, 6\n",
    "\n",
    "UNIX Time:  1, 2, 3, 4, 5, 6\n",
    "\n",
    "Stream 2 with Hz = 2 (2 timestamps / sec)\n",
    "\n",
    "Timestamps: 1  , 2, 3  , 4, 5  , 6\n",
    "\n",
    "UNIX Time:  0.5, 1, 1.5, 2, 2.5, 3\n",
    "\n",
    "Suppose cutoff of one stream is Unix Time = 1, then:\n",
    "\n",
    "Stream 1: 1, 2, 3, 4, 5, 6\n",
    "\n",
    "Stream 2: 2, 3, 4, 5, 6\n",
    "\n",
    "Supposed cutoff of another stream is Unix Time = 2, then:\n",
    "\n",
    "Stream 1: 2, 3, 4, 5, 6\n",
    "\n",
    "Stream 2: 4, 5, 6\n",
    "\n",
    "We see that the relative alignments of both stream 1 and 2 differ between cutoff Unix timestamps"
   ]
  }
 ],
 "metadata": {
  "kernelspec": {
   "display_name": "virtual_env",
   "language": "python",
   "name": "python3"
  },
  "language_info": {
   "codemirror_mode": {
    "name": "ipython",
    "version": 3
   },
   "file_extension": ".py",
   "mimetype": "text/x-python",
   "name": "python",
   "nbconvert_exporter": "python",
   "pygments_lexer": "ipython3",
   "version": "3.12.8"
  }
 },
 "nbformat": 4,
 "nbformat_minor": 2
}
