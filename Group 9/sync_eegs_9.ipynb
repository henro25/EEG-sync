{
 "cells": [
  {
   "cell_type": "code",
   "execution_count": 1,
   "metadata": {},
   "outputs": [],
   "source": [
    "import matplotlib.pyplot as plt\n",
    "import numpy as np\n",
    "\n",
    "import pyxdf"
   ]
  },
  {
   "cell_type": "code",
   "execution_count": 2,
   "metadata": {},
   "outputs": [],
   "source": [
    "WPI_xdf_path = \"HCILab-Group9.xdf\"\n",
    "CSL_xdf_path = \"CSL_Laptop_1312.xdf\""
   ]
  },
  {
   "cell_type": "markdown",
   "metadata": {},
   "source": [
    "### View XDF Streams"
   ]
  },
  {
   "cell_type": "code",
   "execution_count": 3,
   "metadata": {},
   "outputs": [],
   "source": [
    "def view_xdf_streams(xdf_path):\n",
    "    data, header = pyxdf.load_xdf(xdf_path)\n",
    "    print(header)\n",
    "    \n",
    "    for stream in data:\n",
    "        stream_name = stream[\"info\"][\"name\"][0]\n",
    "        print(f'Stream {stream_name}')"
   ]
  },
  {
   "cell_type": "code",
   "execution_count": 4,
   "metadata": {},
   "outputs": [
    {
     "name": "stdout",
     "output_type": "stream",
     "text": [
      "{'info': defaultdict(<class 'list'>, {'version': ['1.0'], 'datetime': ['2024-12-13T09:43:02-0500']})}\n",
      "Stream Unicorn_HCILab1\n",
      "Stream OBS_HCILab1\n",
      "Stream Unicorn_HCILab2\n",
      "Stream OBS_HCILab2\n",
      "Stream OBS_CSL_Laptop\n"
     ]
    }
   ],
   "source": [
    "view_xdf_streams(WPI_xdf_path)"
   ]
  },
  {
   "cell_type": "code",
   "execution_count": 5,
   "metadata": {},
   "outputs": [
    {
     "name": "stdout",
     "output_type": "stream",
     "text": [
      "{'info': defaultdict(<class 'list'>, {'version': ['1.0'], 'datetime': ['2024-12-13T15:43:03+0100']})}\n",
      "Stream Unicorn_CSL_Laptop\n",
      "Stream OBS_CSL_Laptop\n",
      "Stream OBS_HCILab1\n",
      "Stream Unicorn_HCILab1\n"
     ]
    }
   ],
   "source": [
    "view_xdf_streams(CSL_xdf_path)"
   ]
  },
  {
   "cell_type": "code",
   "execution_count": null,
   "metadata": {},
   "outputs": [],
   "source": [
    "def view_stream_keys(xdf_path):\n",
    "    data, header = pyxdf.load_xdf(xdf_path)\n",
    "    \n",
    "    # Print all keys in the stream to inspect the structure\n",
    "    print(f\"Keys in a stream:\")\n",
    "    for key in data[0].keys():\n",
    "        print(f\"- {key}\")\n",
    "\n",
    "view_stream_keys(WPI_xdf_path)"
   ]
  },
  {
   "cell_type": "markdown",
   "metadata": {},
   "source": [
    "From running the code above, we get that each stream contains:\n",
    "\n",
    "- info\n",
    "- footer\n",
    "- time_series (contains UNIX time stampes for OBS streams)\n",
    "- time_stamps (contain Lab Recorder time stamps)\n",
    "- clock_times\n",
    "- clock_values\n",
    "\n",
    "Also, from examining the streams of both WPI HCI Lab and CSL xdf files, we get that:\n",
    "\n",
    "The WPI HCI Lab Stream Names:\n",
    "\n",
    "- Stream OBS_HCILab1\n",
    "- Stream Unicorn_HCILab1 (shared)\n",
    "- Stream OBS_HCILab2 (shared)\n",
    "- Stream Unicorn_HCILab2\n",
    "- Stream Unicorn_CSL_LabPC\n",
    "- Stream OBS_CSL_Laptop\n",
    "\n",
    "The CSL Lab Stream Names:\n",
    "\n",
    "- Stream OBS_CSL_Laptop\n",
    "- Stream Unicorn_CSL_Laptop\n",
    "- Stream Unicorn_CSL_LabPC\n",
    "- Stream OBS_CSL_LabPC\n",
    "- Stream OBS_HCILab2 (shared)\n",
    "- Stream Unicorn_HCILab1 (shared)\n",
    "\n",
    "We see that both lab xdf files share OBS_HCILab2 and Unicorn_HCILab1! So, since the same OBS stream is in multiple files, below, I will find the index of the where the UNIX timestamp at the start of the later recording also occurs in the earlier ones. Once I get the LabRecorder timestamp at this index, I will cut all the EEG data with timestamps lower than this value to sync all streams.\n",
    "\n",
    "Note: the shared streams and streams are only examples from Group 1."
   ]
  },
  {
   "cell_type": "code",
   "execution_count": 6,
   "metadata": {},
   "outputs": [
    {
     "name": "stdout",
     "output_type": "stream",
     "text": [
      "WPI HCI Lab Streams:\n",
      "Stream Unicorn_HCILab1 has 961607 time stamps, starting with 3385.087369837378\n",
      "Stream OBS_HCILab1 has 115647 time stamps, starting with 3382.1029780572767\n",
      "Stream OBS_HCILab1 with time series (UNIX) begins with 1734100982.883\n",
      "Stream Unicorn_HCILab2 has 947133 time stamps, starting with 3363.470890261479\n",
      "Stream OBS_HCILab2 has 110211 time stamps, starting with 3396.269159257672\n",
      "Stream OBS_HCILab2 with time series (UNIX) begins with 1734101000.565\n",
      "Stream OBS_CSL_Laptop has 115641 time stamps, starting with 3382.2766307657594\n",
      "Stream OBS_CSL_Laptop with time series (UNIX) begins with 1734100983.052\n",
      "\n",
      "CSL Lab Streams:\n",
      "Stream Unicorn_CSL_Laptop has 964412 time stamps, starting with 4497.369249842102\n",
      "Stream OBS_CSL_Laptop has 115588 time stamps, starting with 4497.5399709306075\n",
      "Stream OBS_CSL_Laptop with time series (UNIX) begins with 1734100983.519\n",
      "Stream OBS_HCILab1 has 115581 time stamps, starting with 4497.699666245019\n",
      "Stream OBS_HCILab1 with time series (UNIX) begins with 1734100983.683\n",
      "Stream Unicorn_HCILab1 has 961016 time stamps, starting with 4500.690134305022\n"
     ]
    }
   ],
   "source": [
    "def examine_timestamps_length(xdf_path):\n",
    "    data, header = pyxdf.load_xdf(xdf_path)\n",
    "    \n",
    "    for stream in data:\n",
    "        stream_name = stream[\"info\"][\"name\"][0]\n",
    "        \n",
    "        time_stamps = stream[\"time_stamps\"]\n",
    "        \n",
    "        print(f'Stream {stream_name} has {len(time_stamps)} time stamps, starting with {time_stamps[0]}')\n",
    "        \n",
    "        time_series = stream[\"time_series\"]\n",
    "        if stream_name.startswith(\"OBS\"):\n",
    "            print(f\"Stream {stream_name} with time series (UNIX) begins with {time_series[0][0]}\")\n",
    "\n",
    "# Examine the length of all time stamps in each stream for both XDF files\n",
    "print(\"WPI HCI Lab Streams:\")\n",
    "examine_timestamps_length(WPI_xdf_path)\n",
    "\n",
    "print(\"\\nCSL Lab Streams:\")\n",
    "examine_timestamps_length(CSL_xdf_path)"
   ]
  },
  {
   "cell_type": "markdown",
   "metadata": {},
   "source": [
    "### Investigate any weird stream"
   ]
  },
  {
   "cell_type": "code",
   "execution_count": 7,
   "metadata": {},
   "outputs": [
    {
     "name": "stdout",
     "output_type": "stream",
     "text": [
      "True Unix start time for OBS_HCILab2: 191345.328125\n"
     ]
    }
   ],
   "source": [
    "# only run for Group 9 -- (Unix time of OBS_HCILab2 seems to be the latest, but is it really)\n",
    "\n",
    "# Load the XDF data for both labs\n",
    "WPI_data_streams, WPI_header = pyxdf.load_xdf(WPI_xdf_path)\n",
    "CSL_data_streams, CSL_header = pyxdf.load_xdf(CSL_xdf_path)\n",
    "\n",
    "# Get the starting Unix time of OBS_CSL_Laptop\n",
    "# potential_starting_unix_time = WPI_data_streams[2][\"time_series\"][0][0]\n",
    "# print(f\"Potential starting Unix time for OBS_HCILab2: {potential_starting_unix_time}\")\n",
    "\n",
    "# Get the first potential time stamp for OBS_HCILab2\n",
    "potential_HCILab2_time_stamp_start = WPI_data_streams[2][\"time_stamps\"][0]\n",
    "\n",
    "# Find the index of the time stamp of OBS_HCILab2 that is closest to the potential_HCILab2_time_stamp_start\n",
    "index = np.searchsorted(WPI_data_streams[2][\"time_stamps\"], potential_HCILab2_time_stamp_start)\n",
    "\n",
    "OBS_HCILab2_true_unix_start = WPI_data_streams[2][\"time_series\"][index][0]\n",
    "print(f\"True Unix start time for OBS_HCILab2: {OBS_HCILab2_true_unix_start}\")"
   ]
  },
  {
   "cell_type": "code",
   "execution_count": 10,
   "metadata": {},
   "outputs": [
    {
     "name": "stderr",
     "output_type": "stream",
     "text": [
      "Stream 2: Calculated effective sampling rate 26.1407 Hz is different from specified rate 30.0000 Hz.\n",
      "Stream 2: Calculated effective sampling rate -1.0738 Hz is different from specified rate 30.0000 Hz.\n",
      "Stream 3: Calculated effective sampling rate -0.8356 Hz is different from specified rate 250.0000 Hz.\n"
     ]
    },
    {
     "name": "stdout",
     "output_type": "stream",
     "text": [
      "Potential starting Unix time for OBS_CSL_Laptop: 1731941507.595\n",
      "True Unix start time for OBS_HCILab2: 1731941531.402\n"
     ]
    }
   ],
   "source": [
    "# only run for Group 3 and 8 -- weird streams for Group 3 and 8!! (Unix time of OBS_CSL_Laptop seems to be the latest, but it is actually OBS_HCILab2)\n",
    "\n",
    "# Load the XDF data for both labs\n",
    "WPI_data_streams, WPI_header = pyxdf.load_xdf(WPI_xdf_path)\n",
    "CSL_data_streams, CSL_header = pyxdf.load_xdf(CSL_xdf_path)\n",
    "\n",
    "# Get the starting Unix time of OBS_CSL_Laptop\n",
    "potential_starting_unix_time = CSL_data_streams[2][\"time_series\"][0][0]\n",
    "print(f\"Potential starting Unix time for OBS_CSL_Laptop: {potential_starting_unix_time}\")\n",
    "\n",
    "# Get the first potential time stamp for OBS_HCILab2\n",
    "potential_HCILab2_time_stamp_start = WPI_data_streams[3][\"time_stamps\"][0]\n",
    "\n",
    "# Find the index of the time stamp of OBS_HCILab2 that is closest to the potential_HCILab2_time_stamp_start\n",
    "index = np.searchsorted(WPI_data_streams[2][\"time_stamps\"], potential_HCILab2_time_stamp_start)\n",
    "\n",
    "OBS_HCILab2_true_unix_start = WPI_data_streams[2][\"time_series\"][index][0]\n",
    "print(f\"True Unix start time for OBS_HCILab2: {OBS_HCILab2_true_unix_start}\")"
   ]
  },
  {
   "cell_type": "markdown",
   "metadata": {},
   "source": [
    "### Sync Streams!!"
   ]
  },
  {
   "cell_type": "code",
   "execution_count": 15,
   "metadata": {},
   "outputs": [],
   "source": [
    "def sync_streams(data_streams_1, data_streams_2):\n",
    "    \n",
    "    \"\"\"\n",
    "    Sync the data by trimming time_stamp and time_series streams so that all EEG and Unicorn Streams begin at the same time\n",
    "    \n",
    "    Parameters:\n",
    "    - data_streams_1: Stream data from WPI HCI Lab xdf file\n",
    "    - data_streams_2: Stream data from CSL Lab xdf file\n",
    "    \"\"\"\n",
    "    \n",
    "    # Holds the 8 streams (4 OBS and 4 Unicorn)\n",
    "    streams = {}\n",
    "    \n",
    "    # Create mappings of the 8 stream names to streams\n",
    "    for stream in data_streams_1:\n",
    "        stream_name = stream[\"info\"][\"name\"][0]\n",
    "        \n",
    "        if stream_name in [\"OBS_HCILab1\", \"Unicorn_HCILab1\", \"OBS_HCILab2\", \"Unicorn_HCILab2\"]:\n",
    "            streams[stream_name] = stream\n",
    "            \n",
    "    for stream in data_streams_2:\n",
    "        stream_name = stream[\"info\"][\"name\"][0]\n",
    "        \n",
    "        # if stream_name in [\"OBS_CSL_Laptop\", \"Unicorn_CSL_Laptop\", \"OBS_CSL_LabPC\", \"Unicorn_CSL_LabPC\"]:\n",
    "        if stream_name in [\"OBS_CSL_Laptop\", \"Unicorn_CSL_Laptop\", \"Unicorn_CSL_LabPC\"]:  # only for Group 2 and 9 - missing OBS_CSL_LabPC\n",
    "            streams[stream_name] = stream\n",
    "    \n",
    "    # Find the stream with the latest starting Unix timestamp\n",
    "    latest_unix_timestamp = 0\n",
    "    latest_OBS_stream = None\n",
    "    \n",
    "    for stream_name, stream in streams.items():\n",
    "        if stream_name.startswith(\"OBS\"):  # OBS streams have the Unix timestamps\n",
    "            unix_timestamp = stream[\"time_series\"][0][0]\n",
    "            \n",
    "            if unix_timestamp > latest_unix_timestamp:\n",
    "                latest_unix_timestamp = unix_timestamp\n",
    "                latest_OBS_stream = stream\n",
    "    \n",
    "    latest_OBS_stream = streams[\"OBS_HCILab2\"]  # only for Group 3, 6, and 8\n",
    "    latest_unix_timestamp = latest_OBS_stream[\"time_series\"][0][0]  # only for Group 3, 6, and 8\n",
    "    \n",
    "    # Consider the case where the corresponding EEG stream's LabRecorder timestamp is later than the OBS stream's LabRecorder timestamp\n",
    "    \n",
    "    # Find the corresponding EEG stream\n",
    "    corresponding_EEG_stream_name = \"Unicorn\" + latest_OBS_stream[\"info\"][\"name\"][0][3:]\n",
    "    corresponding_EEG_stream = streams[corresponding_EEG_stream_name]\n",
    "    \n",
    "    if corresponding_EEG_stream[\"time_stamps\"][0] > latest_OBS_stream[\"time_stamps\"][0]:\n",
    "        # The EEG stream's LabRecorder timestamp is later than the OBS stream's LabRecorder timestamp\n",
    "        print(\"cutting stream based on EEG!\")\n",
    "        \n",
    "        # Find the index in the OBS stream where the EEG stream's start timestamp occurs\n",
    "        index_in_OBS = np.searchsorted(latest_OBS_stream[\"time_stamps\"], corresponding_EEG_stream[\"time_stamps\"][0])\n",
    "        \n",
    "        # Update the latest Unix timestamp\n",
    "        latest_unix_timestamp = latest_OBS_stream[\"time_series\"][index_in_OBS][0]\n",
    "    \n",
    "    # Trim all the other streams based on the latest Unix timestamp\n",
    "    for OBS_stream_name, EEG_stream_name in [(\"OBS_HCILab1\", \"Unicorn_HCILab1\"), (\"OBS_HCILab2\", \"Unicorn_HCILab2\"), (\"OBS_CSL_Laptop\", \"Unicorn_CSL_Laptop\")]:\n",
    "        OBS_stream = streams[OBS_stream_name]\n",
    "        EEG_stream = streams[EEG_stream_name]\n",
    "        \n",
    "        # First, find the LabRecorder timestamp in the OBS stream that corresponds to the latest Unix timestamp\n",
    "        OBS_unix_times = [ts[0] for ts in OBS_stream[\"time_series\"]]\n",
    "        index_in_OBS = np.searchsorted(OBS_unix_times, latest_unix_timestamp)\n",
    "        \n",
    "        if index_in_OBS < len(OBS_stream[\"time_stamps\"]):\n",
    "            labrecorder_timestamp = OBS_stream[\"time_stamps\"][index_in_OBS]\n",
    "        else:\n",
    "            labrecorder_timestamp = OBS_stream[\"time_stamps\"][-1]\n",
    "        \n",
    "        # Find the index in the EEG stream where this LabRecorder timestamp occurs\n",
    "        index_in_EEG = np.searchsorted(EEG_stream[\"time_stamps\"], labrecorder_timestamp)\n",
    "        \n",
    "        # Trim all the data in the OBS and EEG streams based on this index\n",
    "        OBS_stream[\"time_stamps\"] = OBS_stream[\"time_stamps\"][index_in_OBS:]\n",
    "        OBS_stream[\"time_series\"] = OBS_stream[\"time_series\"][index_in_OBS:]\n",
    "        EEG_stream[\"time_stamps\"] = EEG_stream[\"time_stamps\"][index_in_EEG:]\n",
    "        EEG_stream[\"time_series\"] = EEG_stream[\"time_series\"][index_in_EEG:]\n",
    "    \n",
    "    return streams\n"
   ]
  },
  {
   "cell_type": "code",
   "execution_count": 16,
   "metadata": {},
   "outputs": [],
   "source": [
    "# Load the XDF data for both labs\n",
    "WPI_data_streams, WPI_header = pyxdf.load_xdf(WPI_xdf_path)\n",
    "CSL_data_streams, CSL_header = pyxdf.load_xdf(CSL_xdf_path)"
   ]
  },
  {
   "cell_type": "code",
   "execution_count": 10,
   "metadata": {},
   "outputs": [
    {
     "name": "stdout",
     "output_type": "stream",
     "text": [
      "WPI HCI Lab Streams before syncing:\n",
      "\n",
      "Stream Unicorn_HCILab1 has 961607 time stamps and 961607 time series\n",
      "Starting time stamps: 3385.087369837378 ...\n",
      "\n",
      "Stream OBS_HCILab1 has 115647 time stamps and 115647 time series\n",
      "Starting time stamps: 3382.1029780572767 ...\n",
      "Starting time series (UNIX): 1734100982.883 ...\n",
      "\n",
      "Stream Unicorn_HCILab2 has 947133 time stamps and 947133 time series\n",
      "Starting time stamps: 3363.470890261479 ...\n",
      "\n",
      "Stream OBS_HCILab2 has 110211 time stamps and 110211 time series\n",
      "Starting time stamps: 3396.269159257672 ...\n",
      "Starting time series (UNIX): 1734101000.565 ...\n",
      "\n",
      "Stream OBS_CSL_Laptop has 115641 time stamps and 115641 time series\n",
      "Starting time stamps: 3382.2766307657594 ...\n",
      "Starting time series (UNIX): 1734100983.052 ...\n",
      "\n",
      "CSL Lab Streams before syncing:\n",
      "\n",
      "Stream Unicorn_CSL_Laptop has 964412 time stamps and 964412 time series\n",
      "Starting time stamps: 4497.369249842102 ...\n",
      "\n",
      "Stream OBS_CSL_Laptop has 115588 time stamps and 115588 time series\n",
      "Starting time stamps: 4497.5399709306075 ...\n",
      "Starting time series (UNIX): 1734100983.519 ...\n",
      "\n",
      "Stream OBS_HCILab1 has 115581 time stamps and 115581 time series\n",
      "Starting time stamps: 4497.699666245019 ...\n",
      "Starting time series (UNIX): 1734100983.683 ...\n",
      "\n",
      "Stream Unicorn_HCILab1 has 961016 time stamps and 961016 time series\n",
      "Starting time stamps: 4500.690134305022 ...\n"
     ]
    }
   ],
   "source": [
    "# Before syncing the streams, let's examine the time_stamps and time_series in both files\n",
    "def print_time_stamps_and_series(data_streams):\n",
    "    for stream in data_streams:\n",
    "        stream_name = stream[\"info\"][\"name\"][0]\n",
    "        print(f'\\nStream {stream_name} has {len(stream[\"time_stamps\"])} time stamps and {len(stream[\"time_series\"])} time series')\n",
    "        \n",
    "        if len(stream[\"time_stamps\"]) > 0:\n",
    "            print(f'Starting time stamps: {stream[\"time_stamps\"][0]} ...')\n",
    "        \n",
    "        if stream_name.startswith(\"OBS\") and len(stream[\"time_series\"]) > 0:\n",
    "            print(f'Starting time series (UNIX): {stream[\"time_series\"][0][0]} ...')\n",
    "        \n",
    "print(\"WPI HCI Lab Streams before syncing:\")\n",
    "print_time_stamps_and_series(WPI_data_streams)\n",
    "\n",
    "print(\"\\nCSL Lab Streams before syncing:\")\n",
    "print_time_stamps_and_series(CSL_data_streams)"
   ]
  },
  {
   "cell_type": "code",
   "execution_count": 17,
   "metadata": {},
   "outputs": [],
   "source": [
    "# Sync the streams based on the shared stream's timestamp\n",
    "streams = sync_streams(WPI_data_streams, CSL_data_streams)"
   ]
  },
  {
   "cell_type": "code",
   "execution_count": 18,
   "metadata": {},
   "outputs": [
    {
     "name": "stdout",
     "output_type": "stream",
     "text": [
      "WPI HCI Lab Streams AFTER syncing:\n",
      "\n",
      "Stream Unicorn_HCILab1 has 957935 time stamps and 957935 time series\n",
      "Starting time stamps: 3399.806781565392 ...\n",
      "\n",
      "Stream OBS_HCILab1 has 115116 time stamps and 115116 time series\n",
      "Starting time stamps: 3399.803252226991 ...\n",
      "Starting time series (UNIX): 1734101000.583 ...\n",
      "\n",
      "Stream Unicorn_HCILab2 has 939117 time stamps and 939117 time series\n",
      "Starting time stamps: 3396.2729756951203 ...\n",
      "\n",
      "Stream OBS_HCILab2 has 110211 time stamps and 110211 time series\n",
      "Starting time stamps: 3396.269159257672 ...\n",
      "Starting time series (UNIX): 1734101000.565 ...\n",
      "\n",
      "Stream OBS_CSL_Laptop has 115641 time stamps and 115641 time series\n",
      "Starting time stamps: 3382.2766307657594 ...\n",
      "Starting time series (UNIX): 1734100983.052 ...\n",
      "\n",
      "CSL Lab Streams AFTER syncing:\n",
      "\n",
      "Stream Unicorn_CSL_Laptop has 960097 time stamps and 960097 time series\n",
      "Starting time stamps: 4514.608609277795 ...\n",
      "\n",
      "Stream OBS_CSL_Laptop has 115076 time stamps and 115076 time series\n",
      "Starting time stamps: 4514.606637412529 ...\n",
      "Starting time series (UNIX): 1734101000.585 ...\n",
      "\n",
      "Stream OBS_HCILab1 has 115581 time stamps and 115581 time series\n",
      "Starting time stamps: 4497.699666245019 ...\n",
      "Starting time series (UNIX): 1734100983.683 ...\n",
      "\n",
      "Stream Unicorn_HCILab1 has 961016 time stamps and 961016 time series\n",
      "Starting time stamps: 4500.690134305022 ...\n"
     ]
    }
   ],
   "source": [
    "print(\"WPI HCI Lab Streams AFTER syncing:\")\n",
    "print_time_stamps_and_series(WPI_data_streams)\n",
    "\n",
    "print(\"\\nCSL Lab Streams AFTER syncing:\")\n",
    "print_time_stamps_and_series(CSL_data_streams)"
   ]
  },
  {
   "cell_type": "code",
   "execution_count": 19,
   "metadata": {},
   "outputs": [
    {
     "data": {
      "image/png": "[encoded data removed]",
      "text/plain": [
       "<Figure size 2000x1000 with 2 Axes>"
      ]
     },
     "metadata": {},
     "output_type": "display_data"
    }
   ],
   "source": [
    "import scipy.io\n",
    "\n",
    "# find the max length of time_series in all EEG streams to establish dimensions for synced EEG streams\n",
    "max_length = 0\n",
    "\n",
    "for stream_name in [\"Unicorn_HCILab1\", \"Unicorn_HCILab2\", \"Unicorn_CSL_Laptop\"]:\n",
    "    max_length = max(max_length, len(streams[stream_name][\"time_series\"]))\n",
    "\n",
    "# Create an np array to hold the synced EEG data with dimensions (max_length, 3 * 8)\n",
    "synced_EEG_data = np.full((max_length, 3 * 8), np.nan)\n",
    "\n",
    "# Fill in the synced EEG data\n",
    "for j, stream_name in enumerate([\"Unicorn_HCILab1\", \"Unicorn_HCILab2\", \"Unicorn_CSL_Laptop\"]):\n",
    "    EEG_stream = streams[stream_name]\n",
    "    \n",
    "    for time_index, eeg_data in enumerate(EEG_stream[\"time_series\"]):\n",
    "        synced_EEG_data[time_index, j * 8:(j + 1) * 8] = eeg_data[0:8]\n",
    "\n",
    "# Visualize the synced EEG data\n",
    "plt.figure(figsize=(20, 10))\n",
    "plt.imshow(synced_EEG_data.T, aspect='auto', cmap='jet')\n",
    "plt.colorbar()\n",
    "plt.title(\"Synced EEG Data\")\n",
    "plt.xlabel(\"Time Index\")\n",
    "plt.ylabel(\"Channel Index\")\n",
    "plt.show()\n",
    "\n",
    "# Download the EEG data as an .mat file\n",
    "scipy.io.savemat('synced_EEG_data_9.mat', {'synced_EEG_data_9': synced_EEG_data})"
   ]
  }
 ],
 "metadata": {
  "kernelspec": {
   "display_name": "virtual_env",
   "language": "python",
   "name": "python3"
  },
  "language_info": {
   "codemirror_mode": {
    "name": "ipython",
    "version": 3
   },
   "file_extension": ".py",
   "mimetype": "text/x-python",
   "name": "python",
   "nbconvert_exporter": "python",
   "pygments_lexer": "ipython3",
   "version": "3.12.8"
  }
 },
 "nbformat": 4,
 "nbformat_minor": 2
}
