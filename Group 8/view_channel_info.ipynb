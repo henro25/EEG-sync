{
 "cells": [
  {
   "cell_type": "code",
   "execution_count": 1,
   "metadata": {},
   "outputs": [],
   "source": [
    "import matplotlib.pyplot as plt\n",
    "import numpy as np\n",
    "\n",
    "import pyxdf"
   ]
  },
  {
   "cell_type": "code",
   "execution_count": 2,
   "metadata": {},
   "outputs": [],
   "source": [
    "WPI_xdf_path = \"HCILab1-Group8.xdf\"\n",
    "CSL_xdf_path = \"CSL_LabPC_1811.xdf\""
   ]
  },
  {
   "cell_type": "code",
   "execution_count": 3,
   "metadata": {},
   "outputs": [],
   "source": [
    "def view_xdf_streams(xdf_path):\n",
    "    data, header = pyxdf.load_xdf(xdf_path)\n",
    "    print(header)\n",
    "    \n",
    "    for stream in data:\n",
    "        stream_name = stream[\"info\"][\"name\"][0]\n",
    "        print(f'Stream {stream_name}')"
   ]
  },
  {
   "cell_type": "code",
   "execution_count": 4,
   "metadata": {},
   "outputs": [
    {
     "name": "stderr",
     "output_type": "stream",
     "text": [
      "Stream 2: Calculated effective sampling rate 26.1407 Hz is different from specified rate 30.0000 Hz.\n"
     ]
    },
    {
     "name": "stdout",
     "output_type": "stream",
     "text": [
      "{'info': defaultdict(<class 'list'>, {'version': ['1.0'], 'datetime': ['2024-11-18T09:51:27-0500']})}\n",
      "Stream Unicorn_HCILab1\n",
      "Stream OBS_HCILab1\n",
      "Stream OBS_HCILab2\n",
      "Stream Unicorn_HCILab2\n",
      "Stream Unicorn_CSL_LabPC\n",
      "Stream OBS_CSL_Laptop\n"
     ]
    }
   ],
   "source": [
    "view_xdf_streams(WPI_xdf_path)"
   ]
  },
  {
   "cell_type": "code",
   "execution_count": 5,
   "metadata": {},
   "outputs": [
    {
     "name": "stderr",
     "output_type": "stream",
     "text": [
      "Stream 2: Calculated effective sampling rate -1.0738 Hz is different from specified rate 30.0000 Hz.\n",
      "Stream 3: Calculated effective sampling rate -0.8356 Hz is different from specified rate 250.0000 Hz.\n"
     ]
    },
    {
     "name": "stdout",
     "output_type": "stream",
     "text": [
      "{'info': defaultdict(<class 'list'>, {'version': ['1.0'], 'datetime': ['2024-11-18T15:51:45+0100']})}\n",
      "Stream OBS_CSL_LabPC\n",
      "Stream Unicorn_CSL_LabPC\n",
      "Stream OBS_CSL_Laptop\n",
      "Stream Unicorn_CSL_Laptop\n",
      "Stream OBS_HCILab1\n",
      "Stream Unicorn_HCILab1\n"
     ]
    }
   ],
   "source": [
    "view_xdf_streams(CSL_xdf_path)"
   ]
  },
  {
   "cell_type": "code",
   "execution_count": 14,
   "metadata": {},
   "outputs": [
    {
     "name": "stderr",
     "output_type": "stream",
     "text": [
      "Stream 2: Calculated effective sampling rate -1.0738 Hz is different from specified rate 30.0000 Hz.\n",
      "Stream 3: Calculated effective sampling rate -0.8356 Hz is different from specified rate 250.0000 Hz.\n"
     ]
    }
   ],
   "source": [
    "data, header = pyxdf.load_xdf(CSL_xdf_path)\n",
    "stream_1 = data[3]"
   ]
  },
  {
   "cell_type": "code",
   "execution_count": 15,
   "metadata": {},
   "outputs": [
    {
     "name": "stdout",
     "output_type": "stream",
     "text": [
      "Channel Descriptions:\n",
      "- Fz\n",
      "- C3\n",
      "- Cz\n",
      "- C4\n",
      "- Pz\n",
      "- PO7\n",
      "- Oz\n",
      "- PO8\n",
      "- acc_x\n",
      "- acc_y\n",
      "- acc_z\n",
      "- gyro_x\n",
      "- gyro_y\n",
      "- gyro_z\n",
      "- battery_level\n",
      "- sample_counter\n",
      "- valid_sample\n"
     ]
    }
   ],
   "source": [
    "# Print the channel descriptions in the stream\n",
    "print(f\"Channel Descriptions:\")\n",
    "descriptions = stream_1[\"info\"]['desc']  # list of dictionaries\n",
    "# description = descriptions[0]  # dictionary\n",
    "# channels_list = description['channels']  # list\n",
    "# channels_dict = channels_list[0]  # dictionary\n",
    "# channel_list = channels_dict['channel']  # list\n",
    "# channel_dict = channel_list[0]  # dictionary\n",
    "# print(f\"Channel Name: {channel_dict['label'][0]}\")\n",
    "\n",
    "for desc in descriptions:\n",
    "    channels_list = desc['channels']\n",
    "    for channel in channels_list:\n",
    "        channel_list = channel['channel']\n",
    "        for ch in channel_list:\n",
    "            print(f\"- {ch['label'][0]}\")"
   ]
  }
 ],
 "metadata": {
  "kernelspec": {
   "display_name": "virtual_env",
   "language": "python",
   "name": "python3"
  },
  "language_info": {
   "codemirror_mode": {
    "name": "ipython",
    "version": 3
   },
   "file_extension": ".py",
   "mimetype": "text/x-python",
   "name": "python",
   "nbconvert_exporter": "python",
   "pygments_lexer": "ipython3",
   "version": "3.12.7"
  }
 },
 "nbformat": 4,
 "nbformat_minor": 2
}
