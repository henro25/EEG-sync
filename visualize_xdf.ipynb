{
 "cells": [
  {
   "cell_type": "code",
   "execution_count": 1,
   "metadata": {},
   "outputs": [],
   "source": [
    "import matplotlib.pyplot as plt\n",
    "import numpy as np\n",
    "\n",
    "import pyxdf"
   ]
  },
  {
   "cell_type": "code",
   "execution_count": 24,
   "metadata": {},
   "outputs": [],
   "source": [
    "test_WPI_xdf_path = \"data/Group 1/LabRecorder/HCILab1-Group1.xdf\"\n",
    "test_CSL_xdf_path = \"data/Group 1/LabRecorder/CSL_01_10.xdf\""
   ]
  },
  {
   "cell_type": "markdown",
   "metadata": {},
   "source": [
    "### View XDF Streams"
   ]
  },
  {
   "cell_type": "code",
   "execution_count": null,
   "metadata": {},
   "outputs": [],
   "source": [
    "def view_xdf_streams(xdf_path):\n",
    "    data, header = pyxdf.load_xdf(xdf_path)\n",
    "    print(header)\n",
    "    \n",
    "    for stream in data:\n",
    "        stream_name = stream[\"info\"][\"name\"][0]\n",
    "        print(f'Stream {stream_name}')"
   ]
  },
  {
   "cell_type": "code",
   "execution_count": null,
   "metadata": {},
   "outputs": [
    {
     "name": "stderr",
     "output_type": "stream",
     "text": [
      "Stream 6: Calculated effective sampling rate 14.5166 Hz is different from specified rate 30.0000 Hz.\n",
      "Stream 3: Calculated effective sampling rate 215.7338 Hz is different from specified rate 250.0000 Hz.\n"
     ]
    },
    {
     "name": "stdout",
     "output_type": "stream",
     "text": [
      "{'info': defaultdict(<class 'list'>, {'version': ['1.0'], 'datetime': ['2024-10-01T10:11:12-0400']})}\n",
      "Stream OBS_HCILab1\n",
      "Stream Unicorn_HCILab1\n",
      "Stream OBS_HCILab2\n",
      "Stream Unicorn_HCILab2\n",
      "Stream Unicorn_CSL_LabPC\n",
      "Stream OBS_CSL_Laptop\n"
     ]
    }
   ],
   "source": [
    "view_xdf_streams(test_WPI_xdf_path)"
   ]
  },
  {
   "cell_type": "code",
   "execution_count": null,
   "metadata": {},
   "outputs": [
    {
     "name": "stderr",
     "output_type": "stream",
     "text": [
      "Stream 5: Calculated effective sampling rate 14.5717 Hz is different from specified rate 30.0000 Hz.\n"
     ]
    },
    {
     "name": "stdout",
     "output_type": "stream",
     "text": [
      "{'info': defaultdict(<class 'list'>, {'version': ['1.0'], 'datetime': ['2024-10-01T16:10:18+0200']})}\n",
      "Stream OBS_CSL_Laptop\n",
      "Stream Unicorn_CSL_Laptop\n",
      "Stream Unicorn_CSL_LabPC\n",
      "Stream OBS_CSL_LabPC\n",
      "Stream OBS_HCILab2\n",
      "Stream Unicorn_HCILab1\n"
     ]
    }
   ],
   "source": [
    "view_xdf_streams(test_CSL_xdf_path)"
   ]
  },
  {
   "cell_type": "code",
   "execution_count": 40,
   "metadata": {},
   "outputs": [],
   "source": [
    "def view_stream_keys(xdf_path):\n",
    "    data, header = pyxdf.load_xdf(xdf_path)\n",
    "    \n",
    "    # Print all keys in the stream to inspect the structure\n",
    "    print(f\"Keys in a stream:\")\n",
    "    for key in data[0].keys():\n",
    "        print(f\"- {key}\")"
   ]
  },
  {
   "cell_type": "code",
   "execution_count": 48,
   "metadata": {},
   "outputs": [
    {
     "name": "stderr",
     "output_type": "stream",
     "text": [
      "Stream 6: Calculated effective sampling rate 14.5166 Hz is different from specified rate 30.0000 Hz.\n",
      "Stream 3: Calculated effective sampling rate 215.7338 Hz is different from specified rate 250.0000 Hz.\n"
     ]
    },
    {
     "name": "stdout",
     "output_type": "stream",
     "text": [
      "Keys in a stream:\n",
      "- info\n",
      "- footer\n",
      "- time_series\n",
      "- time_stamps\n",
      "- clock_times\n",
      "- clock_values\n"
     ]
    }
   ],
   "source": [
    "view_stream_keys(test_WPI_xdf_path)"
   ]
  },
  {
   "cell_type": "markdown",
   "metadata": {},
   "source": [
    "From running the code above, we get that each stream contains:\n",
    "\n",
    "- info\n",
    "- footer\n",
    "- time_series\n",
    "- time_stamps\n",
    "- clock_times\n",
    "- clock_values\n",
    "\n",
    "Also, from examining the streams of both WPI HCI Lab and CSL xdf files, we get that:\n",
    "\n",
    "The WPI HCI Lab Stream Names:\n",
    "\n",
    "- Stream OBS_HCILab1\n",
    "- Stream Unicorn_HCILab1 (shared)\n",
    "- Stream OBS_HCILab2 (shared)\n",
    "- Stream Unicorn_HCILab2\n",
    "- Stream Unicorn_CSL_LabPC\n",
    "- Stream OBS_CSL_Laptop\n",
    "\n",
    "The CSL Lab Stream Names:\n",
    "\n",
    "- Stream OBS_CSL_Laptop\n",
    "- Stream Unicorn_CSL_Laptop\n",
    "- Stream Unicorn_CSL_LabPC\n",
    "- Stream OBS_CSL_LabPC\n",
    "- Stream OBS_HCILab2 (shared)\n",
    "- Stream Unicorn_HCILab1 (shared)\n",
    "\n",
    "We see that both lab xdf files share OBS_HCILab2 and Unicorn_HCILab1! So, since the same OBS stream is in multiple files, below, I will find the index of the where the UNIX timestamp at the start of the later recording also occurs in the earlier ones. Once I get the LabRecorder timestamp at this index, I will cut all the EEG data with timestamps lower than this value to sync all streams."
   ]
  },
  {
   "cell_type": "code",
   "execution_count": 61,
   "metadata": {},
   "outputs": [
    {
     "name": "stdout",
     "output_type": "stream",
     "text": [
      "WPI HCI Lab Streams:\n"
     ]
    },
    {
     "name": "stderr",
     "output_type": "stream",
     "text": [
      "Stream 6: Calculated effective sampling rate 14.5166 Hz is different from specified rate 30.0000 Hz.\n",
      "Stream 3: Calculated effective sampling rate 215.7338 Hz is different from specified rate 250.0000 Hz.\n"
     ]
    },
    {
     "name": "stdout",
     "output_type": "stream",
     "text": [
      "Stream OBS_HCILab2 has 61069 time stamps, starting with 56683.57279925809 and ending with 60890.37793320787\n",
      "\n",
      "CSL Lab Streams:\n"
     ]
    },
    {
     "name": "stderr",
     "output_type": "stream",
     "text": [
      "Stream 5: Calculated effective sampling rate 14.5717 Hz is different from specified rate 30.0000 Hz.\n"
     ]
    },
    {
     "name": "stdout",
     "output_type": "stream",
     "text": [
      "Stream OBS_HCILab2 has 60141 time stamps, starting with 56683.572798259556 and ending with 60810.77195900958\n"
     ]
    }
   ],
   "source": [
    "def examine_timestamps_length(xdf_path):\n",
    "    data, header = pyxdf.load_xdf(xdf_path)\n",
    "    \n",
    "    for stream in data:\n",
    "        stream_name = stream[\"info\"][\"name\"][0]\n",
    "        \n",
    "        # for key in stream[\"info\"].keys():\n",
    "        #     print(f\"{key}: {stream['info'][key]}\")\n",
    "        \n",
    "        time_stamps = stream[\"time_stamps\"]\n",
    "        \n",
    "        # print(f'Stream {stream_name} has {len(time_stamps)} time stamps, starting with {time_stamps[0]} and ending with {time_stamps[-1]}')\n",
    "        \n",
    "        if xdf_path == test_CSL_xdf_path:\n",
    "            # CSL Lab is 6 hours ahead of WPI, so we need to adjust the time stamps\n",
    "            # So, for each CSL time_stamp, we subtract 6 * 60 * 60 seconds\n",
    "            time_stamps = [ts - 4801944.59891 for ts in time_stamps]\n",
    "        \n",
    "        if stream_name == \"OBS_HCILab2\":\n",
    "            print(f'Stream {stream_name} has {len(time_stamps)} time stamps, starting with {time_stamps[0]} and ending with {time_stamps[-1]}')\n",
    "\n",
    "# Examine the length of all time stamps in each stream for both XDF files\n",
    "print(\"WPI HCI Lab Streams:\")\n",
    "examine_timestamps_length(test_WPI_xdf_path)\n",
    "\n",
    "print(\"\\nCSL Lab Streams:\")\n",
    "examine_timestamps_length(test_CSL_xdf_path)"
   ]
  },
  {
   "cell_type": "markdown",
   "metadata": {},
   "source": [
    "4858628.17170826 - 56683.57279925809 = 4801944.59891"
   ]
  },
  {
   "cell_type": "markdown",
   "metadata": {},
   "source": [
    "### Below are test functions that might be helpful later"
   ]
  },
  {
   "cell_type": "code",
   "execution_count": null,
   "metadata": {},
   "outputs": [],
   "source": [
    "def load_stream_data(xdf_path):\n",
    "    data, header = pyxdf.load_xdf(xdf_path)\n",
    "    \n",
    "    # Create a dictionary to hold stream name as key and its time_stamps and time_series as values\n",
    "    streams_data = {}\n",
    "    \n",
    "    for stream in data:\n",
    "        stream_name = stream[\"info\"][\"name\"][0]\n",
    "        time_stamps = stream[\"time_stamps\"]\n",
    "        time_series = stream[\"time_series\"]\n",
    "        \n",
    "        streams_data[stream_name] = {\n",
    "            'time_stamps': time_stamps,\n",
    "            'time_series': time_series\n",
    "        }\n",
    "    \n",
    "    return streams_data\n",
    "\n",
    "def sync_streams(data_streams_1, data_streams_2, shared_stream_name):\n",
    "    \"\"\"\n",
    "    Sync the data by trimming streams so that they align based on the shared stream's timestamp.\n",
    "    \n",
    "    Parameters:\n",
    "    - data_streams_1: Stream data from one file (i.e. WPI HCI Lab)\n",
    "    - data_streams_2: Stream data from another file (i.e. CSL Lab)\n",
    "    - shared_stream_name: The shared stream (i.e. OBS_HCILab2)\n",
    "    \n",
    "    Returns:\n",
    "    - Synchronized stream data\n",
    "    \"\"\"\n",
    "    # Extract time_stamps for the shared stream in both files\n",
    "    time_stamps_1 = data_streams_1[shared_stream_name]['time_stamps']\n",
    "    time_stamps_2 = data_streams_2[shared_stream_name]['time_stamps']\n",
    "    \n",
    "    # Find the index of the shared stream in the earlier stream\n",
    "    if time_stamps_1[0] < time_stamps_2[0]:\n",
    "        # The first stream is earlier\n",
    "        earlier_stream_data = data_streams_1\n",
    "        later_stream_data = data_streams_2\n",
    "        \n",
    "        # Find the index in the earlier stream where the later start timestamp occurs\n",
    "        index_in_earlier = np.searchsorted(time_stamps_1, time_stamps_2[0])\n",
    "    else:\n",
    "        # The second stream is earlier\n",
    "        earlier_stream_data = data_streams_2\n",
    "        later_stream_data = data_streams_1\n",
    "        \n",
    "        # Find the index in the earlier stream where the later start timestamp occurs\n",
    "        index_in_earlier = np.searchsorted(time_stamps_2, time_stamps_1[0])\n",
    "    \n",
    "    # Trim all the data in both streams based on this index\n",
    "    synchronized_data = {}\n",
    "    \n",
    "    for stream_name in earlier_stream_data:\n",
    "        # Trim earlier stream data from the found index\n",
    "        synchronized_data[stream_name] = {\n",
    "            'time_stamps': earlier_stream_data[stream_name]['time_stamps'][index_in_earlier:],\n",
    "            'time_series': earlier_stream_data[stream_name]['time_series'][index_in_earlier:]\n",
    "        }\n",
    "    \n",
    "    # Also trim the later stream data from its start point\n",
    "    for stream_name in later_stream_data:\n",
    "        synchronized_data[stream_name] = {\n",
    "            'time_stamps': later_stream_data[stream_name]['time_stamps'],\n",
    "            'time_series': later_stream_data[stream_name]['time_series']\n",
    "        }\n",
    "    \n",
    "    return synchronized_data\n"
   ]
  },
  {
   "cell_type": "code",
   "execution_count": null,
   "metadata": {},
   "outputs": [],
   "source": [
    "# Load the XDF data for both labs\n",
    "earlier_xdf_path = \"WPI_HCI_Lab_Data.xdf\"\n",
    "later_xdf_path = \"CSL_Lab_Data.xdf\"\n",
    "\n",
    "stream_data = load_stream_data(earlier_xdf_path)\n",
    "later_stream_data = load_stream_data(later_xdf_path)\n",
    "\n",
    "# Set the shared stream name (e.g., OBS_HCILab2)\n",
    "shared_stream_name = \"OBS_HCILab2\"\n",
    "\n",
    "# Sync the streams based on the shared stream's timestamp\n",
    "synchronized_data = sync_streams(earlier_stream_data, later_stream_data, shared_stream_name)\n",
    "\n",
    "# Print out the synchronized data for verification\n",
    "for stream_name in synchronized_data:\n",
    "    print(f\"Stream: {stream_name}\")\n",
    "    print(f\"  Time stamps: {synchronized_data[stream_name]['time_stamps'][:10]}...\")  # First 10 timestamps for preview\n",
    "    print(f\"  Time series shape: {synchronized_data[stream_name]['time_series'].shape}\")"
   ]
  },
  {
   "cell_type": "code",
   "execution_count": 12,
   "metadata": {},
   "outputs": [],
   "source": [
    "def visualize_eeg_data(xdf_path):\n",
    "    data, header = pyxdf.load_xdf(xdf_path)\n",
    "    \n",
    "    for stream in data:\n",
    "        print(f'Visualizing {stream[\"info\"][\"name\"][0]}')\n",
    "        y = stream[\"time_series\"]\n",
    "        plt.figure(figsize=(12, 6))\n",
    "        plt.plot(stream[\"time_stamps\"], y)\n",
    "        plt.xlabel('Time (s)')\n",
    "        plt.ylabel('EEG Signal')\n",
    "        plt.title(f'EEG Data from {stream[\"info\"][\"name\"][0]}')\n",
    "        plt.show()"
   ]
  },
  {
   "cell_type": "code",
   "execution_count": 26,
   "metadata": {},
   "outputs": [],
   "source": [
    "def print_starting_timestamps(xdf_path):\n",
    "    # Load the XDF file\n",
    "    data, header = pyxdf.load_xdf(xdf_path)\n",
    "    print(header)\n",
    "    \n",
    "    for stream in data:\n",
    "        # Get the name of the stream\n",
    "        stream_name = stream[\"info\"][\"name\"][0]\n",
    "        print(f'Visualizing {stream_name}')\n",
    "        \n",
    "        # Get the time stamps for the stream\n",
    "        time_stamps = stream[\"time_stamps\"]\n",
    "        \n",
    "        if len(time_stamps) > 0:\n",
    "            # Get the starting timestamp (first timestamp)\n",
    "            starting_timestamp = time_stamps[0]\n",
    "            # Get the ending timestamp (last timestamp)\n",
    "            ending_timestamp = time_stamps[-1]\n",
    "            # Calculate the duration of the stream in seconds\n",
    "            stream_duration = ending_timestamp - starting_timestamp\n",
    "            \n",
    "            print(f\"Starting timestamp for {stream_name}: {starting_timestamp}\")\n",
    "            print(f\"Ending timestamp for {stream_name}: {ending_timestamp}\")\n",
    "            print(f\"Duration of {stream_name}: {stream_duration} seconds\")\n",
    "        else:\n",
    "            print(f\"No time stamps available for {stream_name}\")\n"
   ]
  }
 ],
 "metadata": {
  "kernelspec": {
   "display_name": "virtual_env",
   "language": "python",
   "name": "python3"
  },
  "language_info": {
   "codemirror_mode": {
    "name": "ipython",
    "version": 3
   },
   "file_extension": ".py",
   "mimetype": "text/x-python",
   "name": "python",
   "nbconvert_exporter": "python",
   "pygments_lexer": "ipython3",
   "version": "3.12.7"
  }
 },
 "nbformat": 4,
 "nbformat_minor": 2
}
