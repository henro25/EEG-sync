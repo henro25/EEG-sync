{
 "cells": [
  {
   "cell_type": "code",
   "execution_count": 1,
   "metadata": {},
   "outputs": [],
   "source": [
    "import matplotlib.pyplot as plt\n",
    "import numpy as np\n",
    "\n",
    "import pyxdf"
   ]
  },
  {
   "cell_type": "code",
   "execution_count": 327,
   "metadata": {},
   "outputs": [],
   "source": [
    "WPI_xdf_path = \"data/Group 6/LabRecorder/HCILab1-Group6.xdf\"\n",
    "CSL_xdf_path = \"data/Group 6/LabRecorder/CSL_LabPC_0811.xdf\""
   ]
  },
  {
   "cell_type": "markdown",
   "metadata": {},
   "source": [
    "### View XDF Streams"
   ]
  },
  {
   "cell_type": "code",
   "execution_count": 323,
   "metadata": {},
   "outputs": [],
   "source": [
    "def view_xdf_streams(xdf_path):\n",
    "    data, header = pyxdf.load_xdf(xdf_path)\n",
    "    print(header)\n",
    "    \n",
    "    for stream in data:\n",
    "        stream_name = stream[\"info\"][\"name\"][0]\n",
    "        print(f'Stream {stream_name}')"
   ]
  },
  {
   "cell_type": "code",
   "execution_count": 328,
   "metadata": {},
   "outputs": [
    {
     "name": "stderr",
     "output_type": "stream",
     "text": [
      "Stream 1: Calculated effective sampling rate 15.7510 Hz is different from specified rate 30.0000 Hz.\n"
     ]
    },
    {
     "name": "stdout",
     "output_type": "stream",
     "text": [
      "{'info': defaultdict(<class 'list'>, {'version': ['1.0'], 'datetime': ['2024-11-08T09:34:26-0500']})}\n",
      "Stream Unicorn_HCILab1\n",
      "Stream OBS_HCILab1\n",
      "Stream OBS_HCILab2\n",
      "Stream Unicorn_HCILab2\n",
      "Stream OBS_CSL_LabPC\n",
      "Stream Unicorn_CSL_LabPC\n",
      "Stream OBS_CSL_Laptop\n"
     ]
    }
   ],
   "source": [
    "view_xdf_streams(WPI_xdf_path)"
   ]
  },
  {
   "cell_type": "code",
   "execution_count": 329,
   "metadata": {},
   "outputs": [
    {
     "name": "stdout",
     "output_type": "stream",
     "text": [
      "{'info': defaultdict(<class 'list'>, {'version': ['1.0'], 'datetime': ['2024-11-08T15:34:00+0100']})}\n",
      "Stream OBS_CSL_LabPC\n",
      "Stream Unicorn_CSL_LabPC\n",
      "Stream Unicorn_CSL_Laptop\n",
      "Stream OBS_CSL_Laptop\n",
      "Stream Unicorn_HCILab1\n"
     ]
    }
   ],
   "source": [
    "view_xdf_streams(CSL_xdf_path)"
   ]
  },
  {
   "cell_type": "code",
   "execution_count": 230,
   "metadata": {},
   "outputs": [
    {
     "name": "stderr",
     "output_type": "stream",
     "text": [
      "Stream 2: Calculated effective sampling rate 16.8061 Hz is different from specified rate 30.0000 Hz.\n"
     ]
    },
    {
     "name": "stdout",
     "output_type": "stream",
     "text": [
      "Keys in a stream:\n",
      "- info\n",
      "- footer\n",
      "- time_series\n",
      "- time_stamps\n",
      "- clock_times\n",
      "- clock_values\n"
     ]
    }
   ],
   "source": [
    "def view_stream_keys(xdf_path):\n",
    "    data, header = pyxdf.load_xdf(xdf_path)\n",
    "    \n",
    "    # Print all keys in the stream to inspect the structure\n",
    "    print(f\"Keys in a stream:\")\n",
    "    for key in data[0].keys():\n",
    "        print(f\"- {key}\")\n",
    "\n",
    "view_stream_keys(WPI_xdf_path)"
   ]
  },
  {
   "cell_type": "markdown",
   "metadata": {},
   "source": [
    "From running the code above, we get that each stream contains:\n",
    "\n",
    "- info\n",
    "- footer\n",
    "- time_series (contains UNIX time stampes for OBS streams)\n",
    "- time_stamps (contain Lab Recorder time stamps)\n",
    "- clock_times\n",
    "- clock_values\n",
    "\n",
    "Also, from examining the streams of both WPI HCI Lab and CSL xdf files, we get that:\n",
    "\n",
    "The WPI HCI Lab Stream Names:\n",
    "\n",
    "- Stream OBS_HCILab1\n",
    "- Stream Unicorn_HCILab1 (shared)\n",
    "- Stream OBS_HCILab2 (shared)\n",
    "- Stream Unicorn_HCILab2\n",
    "- Stream Unicorn_CSL_LabPC\n",
    "- Stream OBS_CSL_Laptop\n",
    "\n",
    "The CSL Lab Stream Names:\n",
    "\n",
    "- Stream OBS_CSL_Laptop\n",
    "- Stream Unicorn_CSL_Laptop\n",
    "- Stream Unicorn_CSL_LabPC\n",
    "- Stream OBS_CSL_LabPC\n",
    "- Stream OBS_HCILab2 (shared)\n",
    "- Stream Unicorn_HCILab1 (shared)\n",
    "\n",
    "We see that both lab xdf files share OBS_HCILab2 and Unicorn_HCILab1! So, since the same OBS stream is in multiple files, below, I will find the index of the where the UNIX timestamp at the start of the later recording also occurs in the earlier ones. Once I get the LabRecorder timestamp at this index, I will cut all the EEG data with timestamps lower than this value to sync all streams.\n",
    "\n",
    "Note: the shared streams and streams are only examples from Group 1."
   ]
  },
  {
   "cell_type": "code",
   "execution_count": 330,
   "metadata": {},
   "outputs": [
    {
     "name": "stdout",
     "output_type": "stream",
     "text": [
      "WPI HCI Lab Streams:\n"
     ]
    },
    {
     "name": "stderr",
     "output_type": "stream",
     "text": [
      "Stream 1: Calculated effective sampling rate 15.7510 Hz is different from specified rate 30.0000 Hz.\n"
     ]
    },
    {
     "name": "stdout",
     "output_type": "stream",
     "text": [
      "Stream Unicorn_HCILab1 has 1008116 time stamps, starting with 611253.3354233088\n",
      "Stream OBS_HCILab1 has 120823 time stamps, starting with 611253.3782084001\n",
      "Stream OBS_HCILab1 with time series (UNIX) begins with 1731076466.614\n",
      "Stream OBS_HCILab2 has 21272 time stamps, starting with 611198.701273934\n",
      "Stream OBS_HCILab2 with time series (UNIX) begins with 1731076466.789\n",
      "Stream Unicorn_HCILab2 has 301187 time stamps, starting with 611240.2445216796\n",
      "Stream OBS_CSL_LabPC has 235769 time stamps, starting with 611253.5281848038\n",
      "Stream OBS_CSL_LabPC with time series (UNIX) begins with 1731076466.921\n",
      "Stream Unicorn_CSL_LabPC has 975999 time stamps, starting with 611247.0746992254\n",
      "Stream OBS_CSL_Laptop has 118827 time stamps, starting with 611253.537911259\n",
      "Stream OBS_CSL_Laptop with time series (UNIX) begins with 1731076469.039\n",
      "\n",
      "CSL Lab Streams:\n",
      "Stream OBS_CSL_LabPC has 241375 time stamps, starting with 965124.963829166\n",
      "Stream OBS_CSL_LabPC with time series (UNIX) begins with 1731076440.921\n",
      "Stream Unicorn_CSL_LabPC has 998320 time stamps, starting with 965132.3999757385\n",
      "Stream Unicorn_CSL_Laptop has 1006768 time stamps, starting with 965124.7277521023\n",
      "Stream OBS_CSL_Laptop has 120687 time stamps, starting with 965124.9733625452\n",
      "Stream OBS_CSL_Laptop with time series (UNIX) begins with 1731076443.041\n",
      "Stream Unicorn_HCILab1 has 335063 time stamps, starting with 965125.0904548706\n"
     ]
    }
   ],
   "source": [
    "def examine_timestamps_length(xdf_path):\n",
    "    data, header = pyxdf.load_xdf(xdf_path)\n",
    "    \n",
    "    for stream in data:\n",
    "        stream_name = stream[\"info\"][\"name\"][0]\n",
    "        \n",
    "        time_stamps = stream[\"time_stamps\"]\n",
    "        \n",
    "        print(f'Stream {stream_name} has {len(time_stamps)} time stamps, starting with {time_stamps[0]}')\n",
    "        \n",
    "        time_series = stream[\"time_series\"]\n",
    "        if stream_name.startswith(\"OBS\"):\n",
    "            print(f\"Stream {stream_name} with time series (UNIX) begins with {time_series[0][0]}\")\n",
    "\n",
    "# Examine the length of all time stamps in each stream for both XDF files\n",
    "print(\"WPI HCI Lab Streams:\")\n",
    "examine_timestamps_length(WPI_xdf_path)\n",
    "\n",
    "print(\"\\nCSL Lab Streams:\")\n",
    "examine_timestamps_length(CSL_xdf_path)"
   ]
  },
  {
   "cell_type": "markdown",
   "metadata": {},
   "source": [
    "### Investigate any weird stream"
   ]
  },
  {
   "cell_type": "code",
   "execution_count": null,
   "metadata": {},
   "outputs": [
    {
     "name": "stdout",
     "output_type": "stream",
     "text": [
      "Potential starting Unix time for OBS_CSL_Laptop: 1728395103.777\n",
      "True Unix start time for OBS_HCILab2: 1728395167.307\n"
     ]
    }
   ],
   "source": [
    "# weird streams for Group 3!! \n",
    "\n",
    "# Load the XDF data for both labs\n",
    "WPI_data_streams, WPI_header = pyxdf.load_xdf(WPI_xdf_path)\n",
    "CSL_data_streams, CSL_header = pyxdf.load_xdf(CSL_xdf_path)\n",
    "\n",
    "# Get the starting Unix time of OBS_CSL_Laptop\n",
    "potential_starting_unix_time = CSL_data_streams[0][\"time_series\"][0][0]\n",
    "print(f\"Potential starting Unix time for OBS_CSL_Laptop: {potential_starting_unix_time}\")\n",
    "\n",
    "# Get the first potential time stamp for OBS_HCILab2\n",
    "potential_HCILab2_time_stamp_start = WPI_data_streams[2][\"time_stamps\"][0]\n",
    "\n",
    "# Find the index of the time stamp of OBS_HCILab2 that is closest to the potential_HCILab2_time_stamp_start\n",
    "index = np.searchsorted(WPI_data_streams[3][\"time_stamps\"], potential_HCILab2_time_stamp_start)\n",
    "\n",
    "OBS_HCILab2_true_unix_start = WPI_data_streams[3][\"time_series\"][index][0]\n",
    "print(f\"True Unix start time for OBS_HCILab2: {OBS_HCILab2_true_unix_start}\")"
   ]
  },
  {
   "cell_type": "markdown",
   "metadata": {},
   "source": [
    "### Sync Streams!!"
   ]
  },
  {
   "cell_type": "code",
   "execution_count": 331,
   "metadata": {},
   "outputs": [],
   "source": [
    "def sync_streams(data_streams_1, data_streams_2):\n",
    "    \n",
    "    \"\"\"\n",
    "    Sync the data by trimming time_stamp and time_series streams so that all EEG and Unicorn Streams begin at the same time\n",
    "    \n",
    "    Parameters:\n",
    "    - data_streams_1: Stream data from WPI HCI Lab xdf file\n",
    "    - data_streams_2: Stream data from CSL Lab xdf file\n",
    "    \"\"\"\n",
    "    \n",
    "    # Holds the 8 streams (4 OBS and 4 Unicorn)\n",
    "    streams = {}\n",
    "    \n",
    "    # Create mappings of the 8 stream names to streams\n",
    "    for stream in data_streams_1:\n",
    "        stream_name = stream[\"info\"][\"name\"][0]\n",
    "        \n",
    "        if stream_name in [\"OBS_HCILab1\", \"Unicorn_HCILab1\", \"OBS_HCILab2\", \"Unicorn_HCILab2\"]:\n",
    "            streams[stream_name] = stream\n",
    "            \n",
    "    for stream in data_streams_2:\n",
    "        stream_name = stream[\"info\"][\"name\"][0]\n",
    "        \n",
    "        if stream_name in [\"OBS_CSL_Laptop\", \"Unicorn_CSL_Laptop\", \"OBS_CSL_LabPC\", \"Unicorn_CSL_LabPC\"]:\n",
    "        # if stream_name in [\"OBS_CSL_Laptop\", \"Unicorn_CSL_Laptop\", \"Unicorn_CSL_LabPC\"]:  # only for Group 2 - missing OBS_CSL_LabPC\n",
    "            streams[stream_name] = stream\n",
    "    \n",
    "    # Find the stream with the latest starting Unix timestamp\n",
    "    latest_unix_timestamp = 0\n",
    "    latest_OBS_stream = None\n",
    "    \n",
    "    for stream_name, stream in streams.items():\n",
    "        if stream_name.startswith(\"OBS\"):  # OBS streams have the Unix timestamps\n",
    "            unix_timestamp = stream[\"time_series\"][0][0]\n",
    "            \n",
    "            if unix_timestamp > latest_unix_timestamp:\n",
    "                latest_unix_timestamp = unix_timestamp\n",
    "                latest_OBS_stream = stream\n",
    "    \n",
    "    latest_OBS_stream = streams[\"OBS_HCILab2\"]  # only for Group 3 and 6\n",
    "    latest_unix_timestamp = latest_OBS_stream[\"time_series\"][0][0]  # only for Group 3 and 6\n",
    "    \n",
    "    # Consider the case where the corresponding EEG stream's LabRecorder timestamp is later than the OBS stream's LabRecorder timestamp\n",
    "    \n",
    "    # Find the corresponding EEG stream\n",
    "    corresponding_EEG_stream_name = \"Unicorn\" + latest_OBS_stream[\"info\"][\"name\"][0][3:]\n",
    "    corresponding_EEG_stream = streams[corresponding_EEG_stream_name]\n",
    "    \n",
    "    if corresponding_EEG_stream[\"time_stamps\"][0] > latest_OBS_stream[\"time_stamps\"][0]:\n",
    "        # The EEG stream's LabRecorder timestamp is later than the OBS stream's LabRecorder timestamp\n",
    "        print(\"cutting stream based on EEG!\")\n",
    "        \n",
    "        # Find the index in the OBS stream where the EEG stream's start timestamp occurs\n",
    "        index_in_OBS = np.searchsorted(latest_OBS_stream[\"time_stamps\"], corresponding_EEG_stream[\"time_stamps\"][0])\n",
    "        \n",
    "        # Update the latest Unix timestamp\n",
    "        latest_unix_timestamp = latest_OBS_stream[\"time_series\"][index_in_OBS][0]\n",
    "    \n",
    "    # Trim all the other streams based on the latest Unix timestamp\n",
    "    for OBS_stream_name, EEG_stream_name in [(\"OBS_HCILab1\", \"Unicorn_HCILab1\"), (\"OBS_HCILab2\", \"Unicorn_HCILab2\"), (\"OBS_CSL_Laptop\", \"Unicorn_CSL_Laptop\"), (\"OBS_CSL_LabPC\", \"Unicorn_CSL_LabPC\")]:\n",
    "    # for OBS_stream_name, EEG_stream_name in [(\"OBS_HCILab1\", \"Unicorn_HCILab1\"), (\"OBS_HCILab2\", \"Unicorn_HCILab2\"), (\"OBS_CSL_Laptop\", \"Unicorn_CSL_Laptop\")]:  # only for Group 2 - missing OBS_CSL_LabPC\n",
    "        OBS_stream = streams[OBS_stream_name]\n",
    "        EEG_stream = streams[EEG_stream_name]\n",
    "        \n",
    "        # First, find the LabRecorder timestamp in the OBS stream that corresponds to the latest Unix timestamp\n",
    "        OBS_unix_times = [ts[0] for ts in OBS_stream[\"time_series\"]]\n",
    "        index_in_OBS = np.searchsorted(OBS_unix_times, latest_unix_timestamp)\n",
    "        \n",
    "        if index_in_OBS < len(OBS_stream[\"time_stamps\"]):\n",
    "            labrecorder_timestamp = OBS_stream[\"time_stamps\"][index_in_OBS]\n",
    "        else:\n",
    "            labrecorder_timestamp = OBS_stream[\"time_stamps\"][-1]\n",
    "        \n",
    "        # Find the index in the EEG stream where this LabRecorder timestamp occurs\n",
    "        index_in_EEG = np.searchsorted(EEG_stream[\"time_stamps\"], labrecorder_timestamp)\n",
    "        \n",
    "        # Trim all the data in the OBS and EEG streams based on this index\n",
    "        OBS_stream[\"time_stamps\"] = OBS_stream[\"time_stamps\"][index_in_OBS:]\n",
    "        OBS_stream[\"time_series\"] = OBS_stream[\"time_series\"][index_in_OBS:]\n",
    "        EEG_stream[\"time_stamps\"] = EEG_stream[\"time_stamps\"][index_in_EEG:]\n",
    "        EEG_stream[\"time_series\"] = EEG_stream[\"time_series\"][index_in_EEG:]\n",
    "    \n",
    "    return streams\n"
   ]
  },
  {
   "cell_type": "code",
   "execution_count": 332,
   "metadata": {},
   "outputs": [
    {
     "name": "stderr",
     "output_type": "stream",
     "text": [
      "Stream 1: Calculated effective sampling rate 15.7510 Hz is different from specified rate 30.0000 Hz.\n"
     ]
    }
   ],
   "source": [
    "# Load the XDF data for both labs\n",
    "WPI_data_streams, WPI_header = pyxdf.load_xdf(WPI_xdf_path)\n",
    "CSL_data_streams, CSL_header = pyxdf.load_xdf(CSL_xdf_path)"
   ]
  },
  {
   "cell_type": "code",
   "execution_count": 334,
   "metadata": {},
   "outputs": [
    {
     "name": "stdout",
     "output_type": "stream",
     "text": [
      "WPI HCI Lab Streams before syncing:\n",
      "\n",
      "Stream Unicorn_HCILab1 has 1008116 time stamps and 1008116 time series\n",
      "Starting time stamps: 611253.3354233088 ...\n",
      "\n",
      "Stream OBS_HCILab1 has 120823 time stamps and 120823 time series\n",
      "Starting time stamps: 611253.3782084001 ...\n",
      "Starting time series (UNIX): 1731076466.614 ...\n",
      "\n",
      "Stream OBS_HCILab2 has 21272 time stamps and 21272 time series\n",
      "Starting time stamps: 611198.701273934 ...\n",
      "Starting time series (UNIX): 1731076466.789 ...\n",
      "\n",
      "Stream Unicorn_HCILab2 has 301187 time stamps and 301187 time series\n",
      "Starting time stamps: 611240.2445216796 ...\n",
      "\n",
      "Stream OBS_CSL_LabPC has 235769 time stamps and 235769 time series\n",
      "Starting time stamps: 611253.5281848038 ...\n",
      "Starting time series (UNIX): 1731076466.921 ...\n",
      "\n",
      "Stream Unicorn_CSL_LabPC has 975999 time stamps and 975999 time series\n",
      "Starting time stamps: 611247.0746992254 ...\n",
      "\n",
      "Stream OBS_CSL_Laptop has 118827 time stamps and 118827 time series\n",
      "Starting time stamps: 611253.537911259 ...\n",
      "Starting time series (UNIX): 1731076469.039 ...\n",
      "\n",
      "CSL Lab Streams before syncing:\n",
      "\n",
      "Stream OBS_CSL_LabPC has 241375 time stamps and 241375 time series\n",
      "Starting time stamps: 965124.963829166 ...\n",
      "Starting time series (UNIX): 1731076440.921 ...\n",
      "\n",
      "Stream Unicorn_CSL_LabPC has 998320 time stamps and 998320 time series\n",
      "Starting time stamps: 965132.3999757385 ...\n",
      "\n",
      "Stream Unicorn_CSL_Laptop has 1006768 time stamps and 1006768 time series\n",
      "Starting time stamps: 965124.7277521023 ...\n",
      "\n",
      "Stream OBS_CSL_Laptop has 120687 time stamps and 120687 time series\n",
      "Starting time stamps: 965124.9733625452 ...\n",
      "Starting time series (UNIX): 1731076443.041 ...\n",
      "\n",
      "Stream Unicorn_HCILab1 has 335063 time stamps and 335063 time series\n",
      "Starting time stamps: 965125.0904548706 ...\n"
     ]
    }
   ],
   "source": [
    "# Before syncing the streams, let's examine the time_stamps and time_series in both files\n",
    "def print_time_stamps_and_series(data_streams):\n",
    "    for stream in data_streams:\n",
    "        stream_name = stream[\"info\"][\"name\"][0]\n",
    "        print(f'\\nStream {stream_name} has {len(stream[\"time_stamps\"])} time stamps and {len(stream[\"time_series\"])} time series')\n",
    "        \n",
    "        if len(stream[\"time_stamps\"]) > 0:\n",
    "            print(f'Starting time stamps: {stream[\"time_stamps\"][0]} ...')\n",
    "        \n",
    "        if stream_name.startswith(\"OBS\") and len(stream[\"time_series\"]) > 0:\n",
    "            print(f'Starting time series (UNIX): {stream[\"time_series\"][0][0]} ...')\n",
    "        \n",
    "print(\"WPI HCI Lab Streams before syncing:\")\n",
    "print_time_stamps_and_series(WPI_data_streams)\n",
    "\n",
    "print(\"\\nCSL Lab Streams before syncing:\")\n",
    "print_time_stamps_and_series(CSL_data_streams)"
   ]
  },
  {
   "cell_type": "code",
   "execution_count": 335,
   "metadata": {},
   "outputs": [
    {
     "name": "stdout",
     "output_type": "stream",
     "text": [
      "cutting stream based on EEG!\n"
     ]
    }
   ],
   "source": [
    "# Sync the streams based on the shared stream's timestamp\n",
    "streams = sync_streams(WPI_data_streams, CSL_data_streams)"
   ]
  },
  {
   "cell_type": "code",
   "execution_count": null,
   "metadata": {},
   "outputs": [],
   "source": [
    "# manually sync Stream Unicorn_CSL_LabPC for Group 1 and 2\n",
    "Unicorn_CSL_LabPC_stream = streams[\"Unicorn_CSL_LabPC\"]\n",
    "\n",
    "# calculated by: after_Unicorn_CSL_Labtop_stream - (diff between before_Unicorn_CSL_Labtop_stream and before_Unicorn_CSL_LabPC_stream)\n",
    "# cutoff_timestamp = 4858959.310595922 - (4858783.043931104 - 4858781.894095449)  # Group 1\n",
    "cutoff_timestamp = 4944376.087049186 - (4944236.498566027 - 4944235.853499064)  # Group 2\n",
    "cutoff_index = np.searchsorted(Unicorn_CSL_LabPC_stream[\"time_stamps\"], cutoff_timestamp)\n",
    "\n",
    "Unicorn_CSL_LabPC_stream[\"time_stamps\"] = Unicorn_CSL_LabPC_stream[\"time_stamps\"][cutoff_index:]\n",
    "Unicorn_CSL_LabPC_stream[\"time_series\"] = Unicorn_CSL_LabPC_stream[\"time_series\"][cutoff_index:]"
   ]
  },
  {
   "cell_type": "code",
   "execution_count": 336,
   "metadata": {},
   "outputs": [
    {
     "name": "stdout",
     "output_type": "stream",
     "text": [
      "WPI HCI Lab Streams AFTER syncing:\n",
      "\n",
      "Stream Unicorn_HCILab1 has 1002590 time stamps and 1002590 time series\n",
      "Starting time stamps: 611275.4119884263 ...\n",
      "\n",
      "Stream OBS_HCILab1 has 120162 time stamps and 120162 time series\n",
      "Starting time stamps: 611275.4115415589 ...\n",
      "Starting time series (UNIX): 1731076488.647 ...\n",
      "\n",
      "Stream OBS_HCILab2 has 20617 time stamps and 20617 time series\n",
      "Starting time stamps: 611240.2869423461 ...\n",
      "Starting time series (UNIX): 1731076488.622 ...\n",
      "\n",
      "Stream Unicorn_HCILab2 has 301177 time stamps and 301177 time series\n",
      "Starting time stamps: 611240.2869453005 ...\n",
      "\n",
      "Stream OBS_CSL_LabPC has 235769 time stamps and 235769 time series\n",
      "Starting time stamps: 611253.5281848038 ...\n",
      "Starting time series (UNIX): 1731076466.921 ...\n",
      "\n",
      "Stream Unicorn_CSL_LabPC has 975999 time stamps and 975999 time series\n",
      "Starting time stamps: 611247.0746992254 ...\n",
      "\n",
      "Stream OBS_CSL_Laptop has 118827 time stamps and 118827 time series\n",
      "Starting time stamps: 611253.537911259 ...\n",
      "Starting time series (UNIX): 1731076469.039 ...\n",
      "\n",
      "CSL Lab Streams AFTER syncing:\n",
      "\n",
      "Stream OBS_CSL_LabPC has 238512 time stamps and 238512 time series\n",
      "Starting time stamps: 965172.6804939695 ...\n",
      "Starting time series (UNIX): 1731076488.637 ...\n",
      "\n",
      "Stream Unicorn_CSL_LabPC has 988318 time stamps and 988318 time series\n",
      "Starting time stamps: 965172.682010425 ...\n",
      "\n",
      "Stream Unicorn_CSL_Laptop has 995295 time stamps and 995295 time series\n",
      "Starting time stamps: 965170.5745246038 ...\n",
      "\n",
      "Stream OBS_CSL_Laptop has 119319 time stamps and 119319 time series\n",
      "Starting time stamps: 965170.5737595301 ...\n",
      "Starting time series (UNIX): 1731076488.638 ...\n",
      "\n",
      "Stream Unicorn_HCILab1 has 335063 time stamps and 335063 time series\n",
      "Starting time stamps: 965125.0904548706 ...\n"
     ]
    }
   ],
   "source": [
    "print(\"WPI HCI Lab Streams AFTER syncing:\")\n",
    "print_time_stamps_and_series(WPI_data_streams)\n",
    "\n",
    "print(\"\\nCSL Lab Streams AFTER syncing:\")\n",
    "print_time_stamps_and_series(CSL_data_streams)"
   ]
  },
  {
   "cell_type": "code",
   "execution_count": 338,
   "metadata": {},
   "outputs": [
    {
     "name": "stdout",
     "output_type": "stream",
     "text": [
      "Synced EEG data shape: (1002590, 32)\n",
      "Synced EEG data:\n",
      "[[192428.765625 183154.484375 192923.71875  ... 211440.265625\n",
      "  193787.484375 194667.515625]\n",
      " [192437.609375 183164.046875 192932.21875  ... 211454.75\n",
      "  193796.15625  194674.21875 ]\n",
      " [192446.1875   183171.828125 192940.609375 ... 211473.4375\n",
      "  193812.0625   194690.046875]\n",
      " ...\n",
      " [186394.859375 173529.828125 181958.40625  ...           nan\n",
      "            nan           nan]\n",
      " [186393.4375   173520.53125  181954.546875 ...           nan\n",
      "            nan           nan]\n",
      " [186400.5      173528.578125 181960.640625 ...           nan\n",
      "            nan           nan]]\n"
     ]
    }
   ],
   "source": [
    "import scipy.io\n",
    "\n",
    "# find the max length of time_series in all EEG streams to establish dimensions for synced EEG streams\n",
    "max_length = 0\n",
    "\n",
    "for stream_name in [\"Unicorn_HCILab1\", \"Unicorn_HCILab2\", \"Unicorn_CSL_Laptop\", \"Unicorn_CSL_LabPC\"]:\n",
    "    max_length = max(max_length, len(streams[stream_name][\"time_series\"]))\n",
    "\n",
    "# Create an np array to hold the synced EEG data with dimensions (max_length, 4 * 8)\n",
    "synced_EEG_data = np.full((max_length, 4 * 8), np.nan)\n",
    "\n",
    "# Fill in the synced EEG data\n",
    "for j, stream_name in enumerate([\"Unicorn_HCILab1\", \"Unicorn_HCILab2\", \"Unicorn_CSL_Laptop\", \"Unicorn_CSL_LabPC\"]):\n",
    "    EEG_stream = streams[stream_name]\n",
    "    \n",
    "    for time_index, eeg_data in enumerate(EEG_stream[\"time_series\"]):\n",
    "        synced_EEG_data[time_index, j * 8:(j + 1) * 8] = eeg_data[0:8]\n",
    "\n",
    "# Print the synced EEG data\n",
    "print(f\"Synced EEG data shape: {synced_EEG_data.shape}\")\n",
    "print(f\"Synced EEG data:\")\n",
    "print(synced_EEG_data)\n",
    "\n",
    "# Download the EEG data as an .mat file\n",
    "scipy.io.savemat('synced_EEG_data_6.mat', {'synced_EEG_data_6': synced_EEG_data})"
   ]
  }
 ],
 "metadata": {
  "kernelspec": {
   "display_name": "virtual_env",
   "language": "python",
   "name": "python3"
  },
  "language_info": {
   "codemirror_mode": {
    "name": "ipython",
    "version": 3
   },
   "file_extension": ".py",
   "mimetype": "text/x-python",
   "name": "python",
   "nbconvert_exporter": "python",
   "pygments_lexer": "ipython3",
   "version": "3.12.7"
  }
 },
 "nbformat": 4,
 "nbformat_minor": 2
}
